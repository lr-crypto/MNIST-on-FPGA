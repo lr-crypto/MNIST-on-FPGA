{
  "nbformat": 4,
  "nbformat_minor": 0,
  "metadata": {
    "colab": {
      "provenance": [],
      "include_colab_link": true
    },
    "kernelspec": {
      "name": "python3",
      "display_name": "Python 3"
    },
    "language_info": {
      "name": "python"
    }
  },
  "cells": [
    {
      "cell_type": "markdown",
      "metadata": {
        "id": "view-in-github",
        "colab_type": "text"
      },
      "source": [
        "<a href=\"https://colab.research.google.com/github/lr-crypto/MNIST-on-FPGA/blob/main/py_AI/colab/my_model.ipynb\" target=\"_parent\"><img src=\"https://colab.research.google.com/assets/colab-badge.svg\" alt=\"Open In Colab\"/></a>"
      ]
    },
    {
      "cell_type": "markdown",
      "source": [
        "# My Model"
      ],
      "metadata": {
        "id": "-PG_NA7X7J1M"
      }
    },
    {
      "cell_type": "markdown",
      "source": [
        "## MNIST References\n",
        "\n",
        "* [Colab Pytorch example](https://github.com/rafaela00castro/pytorch-hands-on/blob/master/mnist_cnn.ipynb)\n",
        "* [Interactive MNIST Demo](https://adamharley.com/nn_vis/cnn/2d.html)"
      ],
      "metadata": {
        "id": "asle8tGE7PuF"
      }
    },
    {
      "cell_type": "markdown",
      "source": [
        "## Get Dataset"
      ],
      "metadata": {
        "id": "_edc_Nr_73xK"
      }
    },
    {
      "cell_type": "code",
      "execution_count": 1,
      "metadata": {
        "id": "hgk_1pg8BE6N"
      },
      "outputs": [],
      "source": [
        "import torch\n",
        "import torch.nn as nn\n",
        "import torch.nn.functional as F\n",
        "from torch.utils.data import DataLoader\n",
        "from torchvision import transforms\n",
        "from torchvision.datasets import MNIST\n",
        "import matplotlib.pyplot as plt\n"
      ]
    },
    {
      "cell_type": "code",
      "source": [
        "device = torch.device(\"cuda\" if torch.cuda.is_available() else \"cpu\")\n",
        "print(f\"Using device:{device}\")\n"
      ],
      "metadata": {
        "id": "sUdVj_51BGPg",
        "colab": {
          "base_uri": "https://localhost:8080/"
        },
        "outputId": "f162d137-fc89-4ed2-b810-58ef0552bd01"
      },
      "execution_count": 2,
      "outputs": [
        {
          "output_type": "stream",
          "name": "stdout",
          "text": [
            "Using device:cpu\n"
          ]
        }
      ]
    },
    {
      "cell_type": "markdown",
      "source": [
        "## Design Model"
      ],
      "metadata": {
        "id": "au6AJnL2792D"
      }
    },
    {
      "cell_type": "code",
      "source": [
        "# Convolutional Neural Network\n",
        "class CNN(torch.nn.Module):\n",
        "    def __init__(self):\n",
        "        super().__init__()\n",
        "        self.conv_layer1= nn.Sequential(\n",
        "            # convolution layer 1: input 1 channel，output 10 channel, 5x5kernal\n",
        "            nn.Conv2d(1, 10, kernel_size=5, stride=1),\n",
        "            nn.ReLU(),\n",
        "            nn.MaxPool2d(5,stride=2),  # Image size after pooling: 14x14\n",
        "\n",
        "        )\n",
        "        self.conv_layer2 = torch.nn.Sequential(\n",
        "            # convolution layer 2: input 32 channel, output 64 channel, 3x3kernal\n",
        "            nn.Conv2d(10, 20, kernel_size=3, stride=1),\n",
        "            nn.ReLU(),\n",
        "            nn.MaxPool2d(2,stride=2)\n",
        "        )\n",
        "        self.fc1= nn.Linear(20*4*4,50)\n",
        "        self.fc2=nn.Linear(50,10)\n",
        "        self.dropout = nn.Dropout(0.2)\n",
        "\n",
        "\n",
        "    def forward(self, x):\n",
        "        x = self.conv_layer1(x)\n",
        "        x = self.conv_layer2(x)\n",
        "        x = x.view(-1,20*4*4)  # Flatten layer\n",
        "        x = F.relu(self.fc1(x))\n",
        "        x = self.dropout(x)\n",
        "        x = self.fc2(x)\n",
        "        return torch.nn.functional.log_softmax(x, dim=1)\n",
        "\n"
      ],
      "metadata": {
        "id": "56myC0rztXNy"
      },
      "execution_count": 4,
      "outputs": []
    },
    {
      "cell_type": "code",
      "source": [
        "net = CNN().to(device)\n",
        "print(net)"
      ],
      "metadata": {
        "colab": {
          "base_uri": "https://localhost:8080/"
        },
        "id": "eyoR6rYDBT_X",
        "outputId": "7517686f-e087-40a2-ddf9-8a60ea213d5d"
      },
      "execution_count": 9,
      "outputs": [
        {
          "output_type": "stream",
          "name": "stdout",
          "text": [
            "CNN(\n",
            "  (conv_layer1): Sequential(\n",
            "    (0): Conv2d(1, 10, kernel_size=(5, 5), stride=(1, 1))\n",
            "    (1): ReLU()\n",
            "    (2): MaxPool2d(kernel_size=5, stride=2, padding=0, dilation=1, ceil_mode=False)\n",
            "  )\n",
            "  (conv_layer2): Sequential(\n",
            "    (0): Conv2d(10, 20, kernel_size=(3, 3), stride=(1, 1))\n",
            "    (1): ReLU()\n",
            "    (2): MaxPool2d(kernel_size=2, stride=2, padding=0, dilation=1, ceil_mode=False)\n",
            "  )\n",
            "  (fc1): Linear(in_features=320, out_features=50, bias=True)\n",
            "  (fc2): Linear(in_features=50, out_features=10, bias=True)\n",
            "  (dropout): Dropout(p=0.2, inplace=False)\n",
            ")\n"
          ]
        }
      ]
    },
    {
      "cell_type": "markdown",
      "source": [
        "## Train Model"
      ],
      "metadata": {
        "id": "8YXu9oDZ8CRn"
      }
    },
    {
      "cell_type": "code",
      "source": [
        "# Optimized image preprocessing (add normalization)\n",
        "def get_data_loader(is_train):\n",
        "    transform = transforms.Compose([\n",
        "        transforms.ToTensor(),\n",
        "        transforms.Normalize((0.1307,), (0.3081,))  # Average and standard deviation (SD) of MNIST dataset\n",
        "    ])\n",
        "    dataset = MNIST(\"\", is_train, transform=transform, download=True)\n",
        "    return DataLoader(dataset, batch_size=16, shuffle=True)\n",
        "\n",
        "def evaluate(test_data, net):\n",
        "    n_correct = 0\n",
        "    n_total = 0\n",
        "    net.eval()\n",
        "    with torch.no_grad():\n",
        "        for (x, y) in test_data:\n",
        "            x, y = x.to(device), y.to(device)\n",
        "            outputs = net(x)  # 不再需要展平\n",
        "            preds = torch.argmax(outputs, dim=1)\n",
        "            n_correct += (preds == y).sum().item()\n",
        "            n_total += y.size(0)\n",
        "    return n_correct / n_total\n"
      ],
      "metadata": {
        "id": "6VO_ggBZiqay"
      },
      "execution_count": 7,
      "outputs": []
    },
    {
      "cell_type": "code",
      "source": [
        "train_data = get_data_loader(is_train=True)\n",
        "test_data = get_data_loader(is_train=False)\n",
        "\n",
        "print(\"Initial accuracy:\", evaluate(test_data, net))\n",
        "optimizer = torch.optim.Adam(net.parameters(), lr=0.001)\n",
        "\n",
        "# training epoch\n",
        "for epoch in range(3):\n",
        "    net.train()\n",
        "    for batch_idx, (x, y) in enumerate(train_data):\n",
        "        x, y = x.to(device), y.to(device)\n",
        "        optimizer.zero_grad()\n",
        "        output = net(x)  # Input origin format, no need for flattenning\n",
        "        # Define loss function\n",
        "        loss = torch.nn.functional.nll_loss(output, y)\n",
        "        loss.backward()\n",
        "        optimizer.step()\n",
        "\n",
        "    acc = evaluate(test_data, net)\n",
        "    print(f\"Epoch {epoch+1}, Accuracy: {acc:.4f}\")\n"
      ],
      "metadata": {
        "colab": {
          "base_uri": "https://localhost:8080/"
        },
        "id": "B0HTz48rhBle",
        "outputId": "2b95be33-deb6-4b61-8676-00aaf6cc9d87"
      },
      "execution_count": 11,
      "outputs": [
        {
          "output_type": "stream",
          "name": "stdout",
          "text": [
            "Initial accuracy: 0.9883\n",
            "Epoch 1, Accuracy: 0.9871\n",
            "Epoch 2, Accuracy: 0.9882\n",
            "Epoch 3, Accuracy: 0.9896\n"
          ]
        }
      ]
    },
    {
      "cell_type": "code",
      "source": [
        "# save model\n",
        "torch.save(net.state_dict(), 'mnist_model_cnn.pth')\n",
        "print(\"Model saved as mnist_model.pth\")"
      ],
      "metadata": {
        "colab": {
          "base_uri": "https://localhost:8080/"
        },
        "id": "kNsOpaq4k-e1",
        "outputId": "67fc2906-b86c-403f-ad17-9cc324be6b98"
      },
      "execution_count": 12,
      "outputs": [
        {
          "output_type": "stream",
          "name": "stdout",
          "text": [
            "Model saved as mnist_model.pth\n"
          ]
        }
      ]
    },
    {
      "cell_type": "markdown",
      "source": [
        "## Export Model with OpenVINO"
      ],
      "metadata": {
        "id": "dm5ry0wt8EYw"
      }
    },
    {
      "cell_type": "code",
      "source": [
        "pip install openvino==2024.6.0"
      ],
      "metadata": {
        "colab": {
          "base_uri": "https://localhost:8080/"
        },
        "id": "cGBQG4n5BY0n",
        "outputId": "f31fa8c5-7bc2-4958-abe7-2fc8c7f6182d"
      },
      "execution_count": 13,
      "outputs": [
        {
          "output_type": "stream",
          "name": "stdout",
          "text": [
            "Collecting openvino==2024.6.0\n",
            "  Downloading openvino-2024.6.0-17404-cp311-cp311-manylinux2014_x86_64.whl.metadata (8.3 kB)\n",
            "Requirement already satisfied: numpy<2.2.0,>=1.16.6 in /usr/local/lib/python3.11/dist-packages (from openvino==2024.6.0) (2.0.2)\n",
            "Collecting openvino-telemetry>=2023.2.1 (from openvino==2024.6.0)\n",
            "  Downloading openvino_telemetry-2025.2.0-py3-none-any.whl.metadata (2.3 kB)\n",
            "Requirement already satisfied: packaging in /usr/local/lib/python3.11/dist-packages (from openvino==2024.6.0) (25.0)\n",
            "Downloading openvino-2024.6.0-17404-cp311-cp311-manylinux2014_x86_64.whl (44.7 MB)\n",
            "\u001b[2K   \u001b[90m━━━━━━━━━━━━━━━━━━━━━━━━━━━━━━━━━━━━━━━━\u001b[0m \u001b[32m44.7/44.7 MB\u001b[0m \u001b[31m10.8 MB/s\u001b[0m eta \u001b[36m0:00:00\u001b[0m\n",
            "\u001b[?25hDownloading openvino_telemetry-2025.2.0-py3-none-any.whl (25 kB)\n",
            "Installing collected packages: openvino-telemetry, openvino\n",
            "Successfully installed openvino-2024.6.0 openvino-telemetry-2025.2.0\n"
          ]
        }
      ]
    },
    {
      "cell_type": "code",
      "source": [
        "import openvino as ov"
      ],
      "metadata": {
        "id": "RVyWq40LBcjf"
      },
      "execution_count": 14,
      "outputs": []
    },
    {
      "cell_type": "code",
      "source": [
        "ov_model = ov.convert_model(net,input=[1,1, 28, 28])"
      ],
      "metadata": {
        "id": "McoUqzmQBeCv"
      },
      "execution_count": 16,
      "outputs": []
    },
    {
      "cell_type": "code",
      "source": [
        "ov.save_model(ov_model, 'mnist_cnn.xml')"
      ],
      "metadata": {
        "id": "1rzZxjVCBi0n"
      },
      "execution_count": 17,
      "outputs": []
    },
    {
      "cell_type": "markdown",
      "source": [
        "## DLA Compile Commands\n",
        "\n",
        "Example command for the FPGA AI DLA compiler"
      ],
      "metadata": {
        "id": "v2xan2-r8ZCy"
      }
    },
    {
      "cell_type": "markdown",
      "source": [
        "```\n",
        "\n",
        "dla_compiler --march $COREDLA_ROOT/example_architectures/AGX7_Performance.arch --network-file ./mnist_3x.xml --foutput-format=open_vino_hetero --o $COREDLA_WORK/demo/mnist_perf.bin --batch-size=1 --fanalyze-performance\n",
        "\n",
        "dla_compiler --march $COREDLA_ROOT/example_architectures/AGX7_Performance.arch --network-file ./mnist_3x.xml --foutput-format=open_vino_hetero --o $COREDLA_WORK/demo/mnist_stream.bin --batch-size=1 --fanalyze-performance --ffolding-option=0\n",
        "\n",
        "\n",
        "uio-devices restart\n",
        "export compiled_model=~/resnet-50-tf/mnist_perf.bin\n",
        "export imgdir=~/resnet-50-tf/sample_images\n",
        "export archfile=~/resnet-50-tf/AGX7_Performance.arch\n",
        "cd ~/app\n",
        "export COREDLA_ROOT=/home/root/app\n",
        "./dla_benchmark -b=1 -cm $compiled_model -d=HETERO:FPGA,CPU -i $imgdir -niter=5 -plugins_xml_file ./plugins.xml -arch_file $archfile -api=async -perf_est  -nireq=4 -bgr\n",
        "\n",
        "\n",
        "dla_compiler --fanalyze-area --march $COREDLA_ROOT/example_architectures/AGX7_Performance.arch\n",
        "\n",
        "dla_compiler --gen-arch --mmax-resources=427200,2713,1518 --gen-min-sb=2048 --network-file ./mnist_3x.xml --march=$COREDLA_ROOT/example_architectures/AGX7_Performance.arch --mmax-resources-alm-util=75 --fassumed-fmax-core=300 --network-weightings=1 2\n",
        "\n",
        "dla_compiler --fanalyze-area --march ./generated_arch.arch\n",
        "\n",
        "dla_compiler --gen-arch --mmax-resources=427200,2713,1518 --gen-min-sb=2048 --network-file ./mnist_3x.xml --march=$COREDLA_ROOT/example_architectures/AGX7_Performance.arch --mmax-resources-alm-util=75 --fassumed-fmax-core=300 --network-weightings=1 --mtarget-fps=100.0\n",
        "\n",
        "dla_compiler --fanalyze-area --march ./generated_arch.arch\n",
        "```"
      ],
      "metadata": {
        "id": "9AGfqhYO8b0Y"
      }
    }
  ]
}